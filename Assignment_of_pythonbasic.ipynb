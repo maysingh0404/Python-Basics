{
  "nbformat": 4,
  "nbformat_minor": 0,
  "metadata": {
    "colab": {
      "provenance": []
    },
    "kernelspec": {
      "name": "python3",
      "display_name": "Python 3"
    },
    "language_info": {
      "name": "python"
    }
  },
  "cells": [
    {
      "cell_type": "code",
      "execution_count": null,
      "metadata": {
        "id": "01nfEgDPyRrH"
      },
      "outputs": [],
      "source": []
    },
    {
      "cell_type": "markdown",
      "source": [
        "# Pyhton Basics"
      ],
      "metadata": {
        "id": "5i9oGkHvySaB"
      }
    },
    {
      "cell_type": "code",
      "source": [],
      "metadata": {
        "id": "qNwlZec4yZre"
      },
      "execution_count": null,
      "outputs": []
    },
    {
      "cell_type": "markdown",
      "source": [
        "1. What is pyhton, and why is it popular?\n",
        "  - Python is a programming language that is easy to understand and write also It\n",
        "   is a high-level language, interpreted and object oriented programming language.\n",
        "   It is popular because python has a large and active community of developers,\n",
        "   vast library and has packages for varios Domains.\n",
        "2. What is an interpreter in Python?\n",
        "  - In Python,interpreter is a program that executes the codes directly by\n",
        "   translating it line by line into machine language that the computer can\n",
        "   understand and run.\n",
        "3. What are pre-defined keywords in Python?\n",
        "  - Predefined keywords in Python are reserved words that have special meanings\n",
        "   that convey special meaning for special purpose.Examples are if, else, while,\n",
        "   for, def, class, import, try, except, return, True, False, None, etc.\n",
        "4. Can keywords be used as variable names?\n",
        "  - No,keywords cannot be used as variable names in Python. Keywords are reserved\n",
        "   words that have special meanings,Using them as identifiers would lead to\n",
        "   syntax errors because the interpreter would be unable to distinguish between\n",
        "   the keywords and Variables having the same name.\n",
        "5. What is mutability in Python?\n",
        "  - In Python, mutability refers to whether an object's state or content can be\n",
        "   changed and modified after it is created from the given list or dictionary.\n",
        "6. Why are lists mutable, but tuples are immutable?\n",
        "  - Tuples are immutable,beacuse once a tuple has been created, you can't replace\n",
        "   any of its elements with a new value as they are enclosed in double quotes\n",
        "   i.e\"Mayank\". Lists are mutable,because that you can always change a list's\n",
        "   elements as they are enclosed in the sqaure brackets.\n",
        "7. What is the difference between “==” and “is” operators in Python?\n",
        "  - \"==\" operator is used to Compare the values of two objects and \"is\" operator\n",
        "   is used to Compare the identity of two objects.\n",
        "8. What are logical operators in Python?\n",
        "  - Logical operators in Python are used to combine conditional statements and\n",
        "   perform logical operations on Boolean values i.e True or False. They are\n",
        "   essential for controlling program flow and making decisions based on multiple\n",
        "   conditions.\n",
        "9. What is type casting in Python?\n",
        "  - Type casting is also known as type conversion and is the process of\n",
        "   converting a value from one data type to another. This is often necessary\n",
        "   when performing operations that require specific data types or when preparing\n",
        "   data for different purposes.\n",
        "10.What is the difference between implicit and explicit type casting?\n",
        "  - Implicit type casting is also known as automatic type conversion because it\n",
        "   is done  automatically by the compiler when different data types are mixed\n",
        "   in an expression. Explicit type casting is performed manually by the\n",
        "   programmer by explicitly specifying the desired data type.\n",
        "11.What is the purpose of conditional statements in Python?\n",
        "  - The purpose of conditional statements is to control the flow of execution\n",
        "   in a program based on whether certain conditions are met.These statements\n",
        "   enable decision-making within the code, allowing different blocks of\n",
        "   instructions to be executed depending on the evaluation of a condition to\n",
        "   either True or False.\n",
        "12.How does the elif statement work?\n",
        "  - The “elif” statement also known as “else if”. It can be used in conditional\n",
        "   statements to check for multiple conditions. For example, if the first\n",
        "   condition is false, it moves on to the next “elif” statement to check if that\n",
        "   condition is true.\n",
        "13.What is the difference between for and while loops?\n",
        "  - for loops are typically used when you know the number of iterations beforehand,\n",
        "   while while loops are used when the number of iterations is determined by a\n",
        "   condition.\n",
        "14.Describe a scenario where a while loop is more suitable than a for loop?\n",
        "  - for loops are best used when you know the number of iterations ahead of time,\n",
        "   whereas a while loop is best used when you don't know the number of\n",
        "   iterations in advance."
      ],
      "metadata": {
        "id": "MvNM2tooygXi"
      }
    },
    {
      "cell_type": "code",
      "source": [
        "# 1.Write a Python program to print \"Hello, World!"
      ],
      "metadata": {
        "id": "VethSSiuzLPj"
      },
      "execution_count": null,
      "outputs": []
    },
    {
      "cell_type": "code",
      "source": [
        "a=\"Hello, World!\"\n",
        "print(a)"
      ],
      "metadata": {
        "colab": {
          "base_uri": "https://localhost:8080/"
        },
        "id": "e4FNAhBazzLL",
        "outputId": "0b6de79d-334c-4441-a35b-9fac627aa914"
      },
      "execution_count": null,
      "outputs": [
        {
          "output_type": "stream",
          "name": "stdout",
          "text": [
            "Hello, World!\n"
          ]
        }
      ]
    },
    {
      "cell_type": "code",
      "source": [
        "# 2.Write a Python program that displays your name and age"
      ],
      "metadata": {
        "id": "3aLj_K_Fz8oE"
      },
      "execution_count": null,
      "outputs": []
    },
    {
      "cell_type": "code",
      "source": [
        "my_name=\"Mayank\"\n",
        "my_age=\"25\"\n",
        "print(\"Name:\",my_name)\n",
        "print(\"Age:\",my_age)\n"
      ],
      "metadata": {
        "colab": {
          "base_uri": "https://localhost:8080/"
        },
        "id": "I5AGnbe90Ot3",
        "outputId": "56a34f40-630b-42c1-de20-7cb927181600"
      },
      "execution_count": null,
      "outputs": [
        {
          "output_type": "stream",
          "name": "stdout",
          "text": [
            "Name: Mayank\n",
            "Age: 25\n"
          ]
        }
      ]
    },
    {
      "cell_type": "code",
      "source": [
        "# 3.Write code to print all the pre-defined keywords in Python using the keyword library"
      ],
      "metadata": {
        "id": "SiYYvTZ10tG8"
      },
      "execution_count": null,
      "outputs": []
    },
    {
      "cell_type": "code",
      "source": [
        "# 4.Write a program that checks if a given word is a Python keyword."
      ],
      "metadata": {
        "id": "nXpcGe_X1EN4"
      },
      "execution_count": null,
      "outputs": []
    },
    {
      "cell_type": "code",
      "source": [
        "a=23\n",
        "b=\"mayank\"\n",
        "print(type(a))\n",
        "print(type(b))"
      ],
      "metadata": {
        "colab": {
          "base_uri": "https://localhost:8080/"
        },
        "id": "6X9HsiFw2hTM",
        "outputId": "a62c5aac-6ee1-4524-e50d-3c820df60d22"
      },
      "execution_count": null,
      "outputs": [
        {
          "output_type": "stream",
          "name": "stdout",
          "text": [
            "<class 'int'>\n",
            "<class 'str'>\n"
          ]
        }
      ]
    },
    {
      "cell_type": "code",
      "source": [
        "# 5. Create a list and tuple in Python, and demonstrate how attempting to change an element works differently\n",
        "#    for each."
      ],
      "metadata": {
        "id": "LS6OGPiX2pyw"
      },
      "execution_count": null,
      "outputs": []
    },
    {
      "cell_type": "code",
      "source": [
        "my_list=[1,3,6]\n",
        "print(\"list_1:\",my_list)\n",
        "my_list[2]=8\n",
        "print(\"change_list:\",my_list)\n",
        "my_tuple=(9,7,4)\n",
        "print(\"tuple_list:\",my_tuple)\n",
        "my_tuple[1]=5\n",
        "print(\"change_tupple:\",my_tuple)"
      ],
      "metadata": {
        "id": "EYPaJLBZ21_d",
        "colab": {
          "base_uri": "https://localhost:8080/",
          "height": 245
        },
        "outputId": "ca433e47-bde9-4cf6-a9d9-413f2e393c04"
      },
      "execution_count": null,
      "outputs": [
        {
          "output_type": "stream",
          "name": "stdout",
          "text": [
            "list_1: [1, 3, 6]\n",
            "change_list: [1, 3, 8]\n",
            "tuple_list: (9, 7, 4)\n"
          ]
        },
        {
          "output_type": "error",
          "ename": "TypeError",
          "evalue": "'tuple' object does not support item assignment",
          "traceback": [
            "\u001b[0;31m---------------------------------------------------------------------------\u001b[0m",
            "\u001b[0;31mTypeError\u001b[0m                                 Traceback (most recent call last)",
            "\u001b[0;32m/tmp/ipython-input-2-2429191588.py\u001b[0m in \u001b[0;36m<cell line: 0>\u001b[0;34m()\u001b[0m\n\u001b[1;32m      5\u001b[0m \u001b[0mmy_tuple\u001b[0m\u001b[0;34m=\u001b[0m\u001b[0;34m(\u001b[0m\u001b[0;36m9\u001b[0m\u001b[0;34m,\u001b[0m\u001b[0;36m7\u001b[0m\u001b[0;34m,\u001b[0m\u001b[0;36m4\u001b[0m\u001b[0;34m)\u001b[0m\u001b[0;34m\u001b[0m\u001b[0;34m\u001b[0m\u001b[0m\n\u001b[1;32m      6\u001b[0m \u001b[0mprint\u001b[0m\u001b[0;34m(\u001b[0m\u001b[0;34m\"tuple_list:\"\u001b[0m\u001b[0;34m,\u001b[0m\u001b[0mmy_tuple\u001b[0m\u001b[0;34m)\u001b[0m\u001b[0;34m\u001b[0m\u001b[0;34m\u001b[0m\u001b[0m\n\u001b[0;32m----> 7\u001b[0;31m \u001b[0mmy_tuple\u001b[0m\u001b[0;34m[\u001b[0m\u001b[0;36m1\u001b[0m\u001b[0;34m]\u001b[0m\u001b[0;34m=\u001b[0m\u001b[0;36m5\u001b[0m\u001b[0;34m\u001b[0m\u001b[0;34m\u001b[0m\u001b[0m\n\u001b[0m\u001b[1;32m      8\u001b[0m \u001b[0mprint\u001b[0m\u001b[0;34m(\u001b[0m\u001b[0;34m\"change_tupple:\"\u001b[0m\u001b[0;34m,\u001b[0m\u001b[0mmy_tuple\u001b[0m\u001b[0;34m)\u001b[0m\u001b[0;34m\u001b[0m\u001b[0;34m\u001b[0m\u001b[0m\n",
            "\u001b[0;31mTypeError\u001b[0m: 'tuple' object does not support item assignment"
          ]
        }
      ]
    },
    {
      "cell_type": "code",
      "source": [
        "# 6.Write a function to demonstrate the behavior of mutable and immutable arguments."
      ],
      "metadata": {
        "id": "ihMfNSsYmgnQ"
      },
      "execution_count": null,
      "outputs": []
    },
    {
      "cell_type": "code",
      "source": [
        "a=[2,4,6,8,\"Mayank\"]\n",
        "a[2]=4\n",
        "print(\"mutable:\",a)\n",
        "a[4]=\"satish\"\n",
        "print(\"mutable:\",a)\n"
      ],
      "metadata": {
        "colab": {
          "base_uri": "https://localhost:8080/"
        },
        "id": "vfxidE3rmxec",
        "outputId": "dacdd2ee-88ef-45db-ebd9-ecf63d198127"
      },
      "execution_count": null,
      "outputs": [
        {
          "output_type": "stream",
          "name": "stdout",
          "text": [
            "mutable: [2, 4, 4, 8, 'Mayank']\n",
            "mutable: [2, 4, 4, 8, 'satish']\n"
          ]
        }
      ]
    },
    {
      "cell_type": "code",
      "source": [
        "a=\"Mayank\"\n",
        "b=a[2]\n",
        "print(\"value of a[2]:\",b)# finding the value of a[2] since positive indices starts from 0 i.e a[2]=y\n",
        "a[2]=s\n",
        "print(\"immutable:\",a)# since imuutable means unchangeable things so alphabets in the string cannot be changed."
      ],
      "metadata": {
        "colab": {
          "base_uri": "https://localhost:8080/",
          "height": 211
        },
        "id": "upHQhnMbody9",
        "outputId": "a7b8c828-c623-4db4-ee8f-097718396e25"
      },
      "execution_count": null,
      "outputs": [
        {
          "output_type": "stream",
          "name": "stdout",
          "text": [
            "value of a[2]: y\n"
          ]
        },
        {
          "output_type": "error",
          "ename": "NameError",
          "evalue": "name 's' is not defined",
          "traceback": [
            "\u001b[0;31m---------------------------------------------------------------------------\u001b[0m",
            "\u001b[0;31mNameError\u001b[0m                                 Traceback (most recent call last)",
            "\u001b[0;32m/tmp/ipython-input-9-2317748240.py\u001b[0m in \u001b[0;36m<cell line: 0>\u001b[0;34m()\u001b[0m\n\u001b[1;32m      2\u001b[0m \u001b[0mb\u001b[0m\u001b[0;34m=\u001b[0m\u001b[0ma\u001b[0m\u001b[0;34m[\u001b[0m\u001b[0;36m2\u001b[0m\u001b[0;34m]\u001b[0m\u001b[0;34m\u001b[0m\u001b[0;34m\u001b[0m\u001b[0m\n\u001b[1;32m      3\u001b[0m \u001b[0mprint\u001b[0m\u001b[0;34m(\u001b[0m\u001b[0;34m\"value of a[2]:\"\u001b[0m\u001b[0;34m,\u001b[0m\u001b[0mb\u001b[0m\u001b[0;34m)\u001b[0m\u001b[0;34m\u001b[0m\u001b[0;34m\u001b[0m\u001b[0m\n\u001b[0;32m----> 4\u001b[0;31m \u001b[0ma\u001b[0m\u001b[0;34m[\u001b[0m\u001b[0;36m2\u001b[0m\u001b[0;34m]\u001b[0m\u001b[0;34m=\u001b[0m\u001b[0ms\u001b[0m\u001b[0;34m\u001b[0m\u001b[0;34m\u001b[0m\u001b[0m\n\u001b[0m\u001b[1;32m      5\u001b[0m \u001b[0mprint\u001b[0m\u001b[0;34m(\u001b[0m\u001b[0;34m\"immutable:\"\u001b[0m\u001b[0;34m,\u001b[0m\u001b[0ma\u001b[0m\u001b[0;34m)\u001b[0m\u001b[0;34m\u001b[0m\u001b[0;34m\u001b[0m\u001b[0m\n",
            "\u001b[0;31mNameError\u001b[0m: name 's' is not defined"
          ]
        }
      ]
    },
    {
      "cell_type": "code",
      "source": [
        "# 7. Write a program that performs basic arithmetic operations on two user-input numbers."
      ],
      "metadata": {
        "id": "mFVVY5lnpB9w"
      },
      "execution_count": null,
      "outputs": []
    },
    {
      "cell_type": "code",
      "source": [
        "a=27\n",
        "b=6\n",
        "sum=a+b # Sum operator\n",
        "print(sum)\n",
        "subs=a-b # Addition of two numbers\n",
        "print(subs)\n",
        "div=a%b # division of two numbers\n",
        "print(div)\n",
        "print(bin(a))\n",
        "print(bin(b))\n",
        "bin=a&b\n",
        "print(bin) # binary Operator"
      ],
      "metadata": {
        "colab": {
          "base_uri": "https://localhost:8080/"
        },
        "id": "ahljDGMvxYbp",
        "outputId": "5d5b867b-8fae-4668-8982-d14ea36efef6"
      },
      "execution_count": null,
      "outputs": [
        {
          "output_type": "stream",
          "name": "stdout",
          "text": [
            "33\n",
            "21\n",
            "3\n",
            "0b11011\n",
            "0b110\n",
            "2\n"
          ]
        }
      ]
    },
    {
      "cell_type": "code",
      "source": [
        "# 8. Write a program to demonstrate the use of logical operators."
      ],
      "metadata": {
        "id": "R5sh5vrFzNHi"
      },
      "execution_count": null,
      "outputs": []
    },
    {
      "cell_type": "code",
      "source": [
        "a=True\n",
        "b=False\n",
        "print(\"a=\", a)\n",
        "print(\"b=\", b)\n",
        "print(\"a and b=\", a and b) # Logical and Operator\n",
        "print(\"a or b=\", a or b) # Logical or Operator\n",
        "print(\"not a=\", not a) # Logical not operator\n",
        "print(\"not b=\", not b) #Logical not operator"
      ],
      "metadata": {
        "colab": {
          "base_uri": "https://localhost:8080/"
        },
        "id": "iEjtWIKZzzzp",
        "outputId": "b370e285-7e3d-4b69-dea4-164bc44e1cc3"
      },
      "execution_count": null,
      "outputs": [
        {
          "output_type": "stream",
          "name": "stdout",
          "text": [
            "a= True\n",
            "b= False\n",
            "a and b= False\n",
            "a or b= True\n",
            "not a= False\n",
            "not b= True\n"
          ]
        }
      ]
    },
    {
      "cell_type": "code",
      "source": [
        "# 9. Write a Python program to convert user input from string to integer, float, and boolean types."
      ],
      "metadata": {
        "id": "3pd4QOY10bYN"
      },
      "execution_count": null,
      "outputs": []
    },
    {
      "cell_type": "code",
      "source": [
        "a=input(\"Enter a value: \")\n",
        "int_value=int(a) # convert to Integer\n",
        "print(\"Integer:\",int_value)\n",
        "\n",
        "float_value=float(a) # convert to Float\n",
        "print(\"Float:\",float_value)\n",
        "\n",
        "bool_value=bool(a)\n",
        "print(\"Bool:\",bool_value)"
      ],
      "metadata": {
        "colab": {
          "base_uri": "https://localhost:8080/"
        },
        "id": "jVbIivlvxn5D",
        "outputId": "36ff8ad0-38e9-4519-89d5-6f57cbe191d9"
      },
      "execution_count": null,
      "outputs": [
        {
          "output_type": "stream",
          "name": "stdout",
          "text": [
            "Enter a value: 23\n",
            "Integer: 23\n",
            "Float: 23.0\n",
            "Bool: True\n"
          ]
        }
      ]
    },
    {
      "cell_type": "code",
      "source": [
        "# 10. Write code to demonstrate type casting with list elements."
      ],
      "metadata": {
        "id": "kuzOOuUU6ZtL"
      },
      "execution_count": null,
      "outputs": []
    },
    {
      "cell_type": "code",
      "source": [
        "data=[1,2.8,3,4.1,5.3]\n",
        "int_data=[int(x) for x in data] # type casted from float to integer\n",
        "print(int_data)\n",
        "data_string=[\"1\",\"3\",\"4\"]\n",
        "float_data=[float(x) for x in data_string] ## type casted from string to flaot\n",
        "print(float_data)\n",
        "num_1=3\n",
        "num_2=\"4\"\n",
        "sum=int(num_2)\n",
        "print(\"Sum of two numbers:\",num_1+sum)\n"
      ],
      "metadata": {
        "colab": {
          "base_uri": "https://localhost:8080/"
        },
        "id": "wV6pm48s6Lrz",
        "outputId": "7bed5c78-d1db-4d78-df73-6dbcb95f5594"
      },
      "execution_count": null,
      "outputs": [
        {
          "output_type": "stream",
          "name": "stdout",
          "text": [
            "[1, 2, 3, 4, 5]\n",
            "[1.0, 3.0, 4.0]\n",
            "Sum of two numbers: 7\n"
          ]
        }
      ]
    },
    {
      "cell_type": "code",
      "source": [
        "# 11.Write a program that checks if a number is positive, negative, or zero."
      ],
      "metadata": {
        "id": "Z0SH_4f5-8ZX"
      },
      "execution_count": null,
      "outputs": []
    },
    {
      "cell_type": "code",
      "source": [
        "num=float(input(\"Enter a number: \"))\n",
        "if(num>0): # function to check weather the number is postive or not\n",
        "  print(\"The number is Positive\")\n",
        "elif(num<0): # function to check weather the number is negative or not\n",
        "  print(\"The number is Negative\")\n",
        "else:\n",
        "  print(\"The number is zero\")\n"
      ],
      "metadata": {
        "colab": {
          "base_uri": "https://localhost:8080/"
        },
        "id": "iNmm_lTI-zh5",
        "outputId": "f3b029e6-7b46-4470-a365-8bfb36c1f84d"
      },
      "execution_count": null,
      "outputs": [
        {
          "output_type": "stream",
          "name": "stdout",
          "text": [
            "Enter a number: 8\n",
            "The number is Positive\n"
          ]
        }
      ]
    },
    {
      "cell_type": "code",
      "source": [
        "# 12. Write a for loop to print numbers from 1 to 10."
      ],
      "metadata": {
        "id": "Z0_eXAODAj8z"
      },
      "execution_count": 1,
      "outputs": []
    },
    {
      "cell_type": "code",
      "source": [
        "for i in range(1,11):\n",
        "  print(i)"
      ],
      "metadata": {
        "id": "PZkai08wDIdz",
        "colab": {
          "base_uri": "https://localhost:8080/"
        },
        "outputId": "af2b9b15-f07b-4297-e4d7-5f2dba0a7f1b"
      },
      "execution_count": 9,
      "outputs": [
        {
          "output_type": "stream",
          "name": "stdout",
          "text": [
            "1\n",
            "2\n",
            "3\n",
            "4\n",
            "5\n",
            "6\n",
            "7\n",
            "8\n",
            "9\n",
            "10\n"
          ]
        }
      ]
    },
    {
      "cell_type": "code",
      "source": [
        "# 13. Write a Python program to find the sum of all even numbers between 1 and 50."
      ],
      "metadata": {
        "id": "6LIg8W_GxdnT"
      },
      "execution_count": null,
      "outputs": []
    },
    {
      "cell_type": "code",
      "source": [
        "sum=0\n",
        "for num in range(1,51): # Loop through numbers from 1 to 51\n",
        "  if(num%2==0): # Check if the number is even\n",
        "    sum+=num\n",
        "print(\"sum of all even numbers between 1 and 50 is: \",sum)"
      ],
      "metadata": {
        "colab": {
          "base_uri": "https://localhost:8080/"
        },
        "id": "mgy2tqfvxcHk",
        "outputId": "987d5f90-c454-4961-9512-aed41b461b03"
      },
      "execution_count": 11,
      "outputs": [
        {
          "output_type": "stream",
          "name": "stdout",
          "text": [
            "sum of all even numbers between 1 and 50 is:  650\n"
          ]
        }
      ]
    },
    {
      "cell_type": "code",
      "source": [
        "14.  Write a program to reverse a string using a while loop."
      ],
      "metadata": {
        "id": "dfNjKFlwyVDQ"
      },
      "execution_count": null,
      "outputs": []
    },
    {
      "cell_type": "code",
      "source": [
        "original = \"Reverse String\"\n",
        "reversed_str = \"\"\n",
        "index = len(original) - 1 # Initialize index to the last character\n",
        "while index >= 0: # Loop backwards through the string\n",
        "    reversed_str += original[index]\n",
        "    index -= 1\n",
        "print(\"Reversed string:\", reversed_str) # Print the reversed string"
      ],
      "metadata": {
        "colab": {
          "base_uri": "https://localhost:8080/"
        },
        "id": "u4cvwo85yQAD",
        "outputId": "6bb94933-a9e5-4aa2-8d8f-cccdef3264b3"
      },
      "execution_count": 13,
      "outputs": [
        {
          "output_type": "stream",
          "name": "stdout",
          "text": [
            "Reversed string: gnirtS esreveR\n"
          ]
        }
      ]
    },
    {
      "cell_type": "code",
      "source": [
        "# 15. Write a Python program to calculate the factorial of a number provided by the user using a while loop."
      ],
      "metadata": {
        "id": "HCZovLiazO49"
      },
      "execution_count": null,
      "outputs": []
    },
    {
      "cell_type": "code",
      "source": [
        "num = int(input(\"Enter a number to find its factorial: \"))\n",
        "factorial = 1  # Initialize variables\n",
        "i = 1\n",
        "if num < 0:  # Check for valid input\n",
        "    print(\"Factorial is not defined for negative numbers.\")\n",
        "else:\n",
        "    while i <= num:   # Calculate factorial using while loop\n",
        "        factorial *= i\n",
        "        i += 1\n",
        "    print(f\"The factorial of {num} is {factorial}\")"
      ],
      "metadata": {
        "colab": {
          "base_uri": "https://localhost:8080/"
        },
        "id": "JB9bkCxvzLM_",
        "outputId": "5bb3dda8-854e-4b1a-cf40-b02acee5941d"
      },
      "execution_count": 15,
      "outputs": [
        {
          "output_type": "stream",
          "name": "stdout",
          "text": [
            "Enter a number to find its factorial: 4\n",
            "The factorial of 4 is 24\n"
          ]
        }
      ]
    },
    {
      "cell_type": "code",
      "source": [],
      "metadata": {
        "id": "qc4VAeID0DOn"
      },
      "execution_count": null,
      "outputs": []
    },
    {
      "cell_type": "code",
      "source": [],
      "metadata": {
        "id": "DpNIPg_wz_rn"
      },
      "execution_count": 14,
      "outputs": []
    },
    {
      "cell_type": "code",
      "source": [],
      "metadata": {
        "id": "WicMRj7o0Cev"
      },
      "execution_count": null,
      "outputs": []
    },
    {
      "cell_type": "code",
      "source": [],
      "metadata": {
        "id": "eIP3nufQxPG_"
      },
      "execution_count": null,
      "outputs": []
    },
    {
      "cell_type": "code",
      "source": [],
      "metadata": {
        "id": "eJR-EmtkxIAT"
      },
      "execution_count": null,
      "outputs": []
    },
    {
      "cell_type": "code",
      "source": [],
      "metadata": {
        "id": "GXdcorhAwr9j"
      },
      "execution_count": null,
      "outputs": []
    },
    {
      "cell_type": "code",
      "source": [],
      "metadata": {
        "id": "WgyttPQmwnuz"
      },
      "execution_count": null,
      "outputs": []
    },
    {
      "cell_type": "code",
      "source": [],
      "metadata": {
        "id": "1NHfSW9Dwlb8"
      },
      "execution_count": null,
      "outputs": []
    },
    {
      "cell_type": "code",
      "source": [],
      "metadata": {
        "id": "V0NqDx1pwgbx"
      },
      "execution_count": null,
      "outputs": []
    },
    {
      "cell_type": "code",
      "source": [],
      "metadata": {
        "id": "018tMpUBAfMs"
      },
      "execution_count": null,
      "outputs": []
    },
    {
      "cell_type": "code",
      "source": [],
      "metadata": {
        "id": "uZeO8u4lAbEx"
      },
      "execution_count": null,
      "outputs": []
    },
    {
      "cell_type": "code",
      "source": [],
      "metadata": {
        "id": "h4K5QlkkAXaS"
      },
      "execution_count": null,
      "outputs": []
    },
    {
      "cell_type": "code",
      "source": [],
      "metadata": {
        "id": "9-rfAYT7AUfP"
      },
      "execution_count": null,
      "outputs": []
    },
    {
      "cell_type": "code",
      "source": [],
      "metadata": {
        "id": "LsgrCfJ5AH9S"
      },
      "execution_count": null,
      "outputs": []
    },
    {
      "cell_type": "code",
      "source": [],
      "metadata": {
        "id": "lyl7uiQt_3R0"
      },
      "execution_count": null,
      "outputs": []
    },
    {
      "cell_type": "code",
      "source": [],
      "metadata": {
        "id": "Y3vC7HmE-dyh"
      },
      "execution_count": null,
      "outputs": []
    },
    {
      "cell_type": "code",
      "source": [],
      "metadata": {
        "id": "TlHY6Hv0-F-g"
      },
      "execution_count": null,
      "outputs": []
    },
    {
      "cell_type": "code",
      "source": [],
      "metadata": {
        "id": "L2uH6bMd93PG"
      },
      "execution_count": null,
      "outputs": []
    },
    {
      "cell_type": "code",
      "source": [],
      "metadata": {
        "id": "fjms-Oe69vUc"
      },
      "execution_count": null,
      "outputs": []
    },
    {
      "cell_type": "code",
      "source": [],
      "metadata": {
        "id": "ccxskj1U9JBD"
      },
      "execution_count": null,
      "outputs": []
    },
    {
      "cell_type": "code",
      "source": [],
      "metadata": {
        "id": "czB9IWgf8mWR"
      },
      "execution_count": null,
      "outputs": []
    },
    {
      "cell_type": "code",
      "source": [],
      "metadata": {
        "id": "5h4EqOpU59RO"
      },
      "execution_count": null,
      "outputs": []
    },
    {
      "cell_type": "code",
      "source": [],
      "metadata": {
        "id": "gRRjzU7X5szB"
      },
      "execution_count": null,
      "outputs": []
    },
    {
      "cell_type": "code",
      "source": [],
      "metadata": {
        "id": "RG9sgOp15roA"
      },
      "execution_count": null,
      "outputs": []
    },
    {
      "cell_type": "code",
      "source": [],
      "metadata": {
        "id": "Uen8CBVs3sTz"
      },
      "execution_count": null,
      "outputs": []
    },
    {
      "cell_type": "code",
      "source": [],
      "metadata": {
        "id": "WMshmLEK3JXE"
      },
      "execution_count": null,
      "outputs": []
    },
    {
      "cell_type": "code",
      "source": [],
      "metadata": {
        "id": "jLZ9tzt012Dm"
      },
      "execution_count": null,
      "outputs": []
    },
    {
      "cell_type": "code",
      "source": [],
      "metadata": {
        "id": "N2UGq0G-xQYq"
      },
      "execution_count": null,
      "outputs": []
    },
    {
      "cell_type": "code",
      "source": [],
      "metadata": {
        "id": "EYvu59-Oo-Fg"
      },
      "execution_count": null,
      "outputs": []
    },
    {
      "cell_type": "code",
      "source": [],
      "metadata": {
        "id": "AESzo_PAo3gc"
      },
      "execution_count": null,
      "outputs": []
    },
    {
      "cell_type": "code",
      "source": [],
      "metadata": {
        "id": "CKBHslDvoOfd"
      },
      "execution_count": null,
      "outputs": []
    },
    {
      "cell_type": "code",
      "source": [],
      "metadata": {
        "id": "KkgW85hWmS8u"
      },
      "execution_count": null,
      "outputs": []
    },
    {
      "cell_type": "code",
      "source": [],
      "metadata": {
        "id": "_1kHOVk31hQW"
      },
      "execution_count": null,
      "outputs": []
    },
    {
      "cell_type": "code",
      "source": [],
      "metadata": {
        "id": "LqO2_pCH1JnX"
      },
      "execution_count": null,
      "outputs": []
    },
    {
      "cell_type": "code",
      "source": [],
      "metadata": {
        "id": "d3et6f0A0q0C"
      },
      "execution_count": null,
      "outputs": []
    },
    {
      "cell_type": "code",
      "source": [],
      "metadata": {
        "id": "KAzlpwzv0pAI"
      },
      "execution_count": null,
      "outputs": []
    },
    {
      "cell_type": "code",
      "source": [],
      "metadata": {
        "id": "dxQ2NpBgytq1"
      },
      "execution_count": null,
      "outputs": []
    },
    {
      "cell_type": "code",
      "source": [],
      "metadata": {
        "id": "ydYrgbeFymFL"
      },
      "execution_count": null,
      "outputs": []
    }
  ]
}